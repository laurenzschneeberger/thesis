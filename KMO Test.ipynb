{
 "cells": [
  {
   "cell_type": "markdown",
   "metadata": {},
   "source": [
    "# KMO Test"
   ]
  },
  {
   "cell_type": "markdown",
   "metadata": {},
   "source": [
    "Is our data suitable for factor modeling? "
   ]
  },
  {
   "cell_type": "code",
   "execution_count": null,
   "metadata": {},
   "outputs": [],
   "source": [
    "import numpy as np\n",
    "import pandas as pd\n",
    "from factor_analyzer.factor_analyzer import calculate_kmo"
   ]
  },
  {
   "cell_type": "code",
   "execution_count": 3,
   "metadata": {},
   "outputs": [],
   "source": [
    "base_path = \"Final_Data/Walkforward_Sets/aggregate_level/\"\n",
    "\n",
    "# For the regular dataframes\n",
    "for year in ['00', '05', '10', '15']:\n",
    "    for size in ['25', '50', '75', '100', '250']:\n",
    "        # Import residuals\n",
    "        df_name = f\"df{year}_{size}\"\n",
    "        file_name = f\"df{year}_varresid_is_{size}.csv\"\n",
    "        globals()[df_name] = pd.read_csv(os.path.join(base_path, file_name), index_col=0)\n",
    "        \n",
    "        # Import correlation matrices\n",
    "        corr_name = f\"corr{year}_{size}\"\n",
    "        corr_file = f\"df{year}_varresid_is_{size}_corr_{size}.csv\"\n",
    "        globals()[corr_name] = pd.read_csv(os.path.join(base_path, corr_file), index_col=0)\n"
   ]
  },
  {
   "cell_type": "code",
   "execution_count": 19,
   "metadata": {},
   "outputs": [
    {
     "name": "stderr",
     "output_type": "stream",
     "text": [
      "/Library/Frameworks/Python.framework/Versions/3.11/lib/python3.11/site-packages/factor_analyzer/utils.py:244: UserWarning: The inverse of the variance-covariance matrix was calculated using the Moore-Penrose generalized matrix inversion, due to its determinant being at or very close to zero.\n",
      "  warnings.warn(\n"
     ]
    },
    {
     "name": "stdout",
     "output_type": "stream",
     "text": [
      "KMO results saved to 'kmo_results.csv'\n"
     ]
    }
   ],
   "source": [
    "corrs_25 = [corr00_25, corr05_25, corr10_25, corr15_25]\n",
    "corrs_50 = [corr00_50, corr05_50, corr10_50, corr15_50]\n",
    "corrs_75 = [corr00_75, corr05_75, corr10_75, corr15_75]\n",
    "corrs_100 = [corr00_100, corr05_100, corr10_100, corr15_100]\n",
    "corrs_250 = [corr00_250, corr05_250, corr10_250, corr15_250]\n",
    "\n",
    "# Combine all correlation lists\n",
    "all_corrs = {\n",
    "    '25': corrs_25,\n",
    "    '50': corrs_50,\n",
    "    '75': corrs_75,\n",
    "    '100': corrs_100,\n",
    "    '250': corrs_250\n",
    "}\n",
    "\n",
    "# Prepare a list to hold the results\n",
    "results = []\n",
    "\n",
    "# Iterate through each list and calculate KMO\n",
    "for size, corrs in all_corrs.items():\n",
    "    for i, corr in enumerate(corrs):\n",
    "        kmo_all, kmo_model = calculate_kmo(corr)\n",
    "        results.append({\n",
    "            'Size': size,\n",
    "            'Condition_No': np.linalg.cond(corr),\n",
    "            'KMO_Model': kmo_model\n",
    "        })\n",
    "\n",
    "# Convert results to a DataFrame\n",
    "results_df = pd.DataFrame(results)\n",
    "\n",
    "# Save to CSV\n",
    "results_df.to_csv('Final_Data/Final_Results/kmo_results.csv', index=False)\n",
    "\n",
    "print(\"KMO results saved to 'kmo_results.csv'\")\n"
   ]
  }
 ],
 "metadata": {
  "kernelspec": {
   "display_name": "Python 3",
   "language": "python",
   "name": "python3"
  },
  "language_info": {
   "codemirror_mode": {
    "name": "ipython",
    "version": 3
   },
   "file_extension": ".py",
   "mimetype": "text/x-python",
   "name": "python",
   "nbconvert_exporter": "python",
   "pygments_lexer": "ipython3",
   "version": "3.11.2"
  }
 },
 "nbformat": 4,
 "nbformat_minor": 2
}
